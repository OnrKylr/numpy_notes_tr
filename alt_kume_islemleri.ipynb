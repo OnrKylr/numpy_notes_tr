{
 "cells": [
  {
   "cell_type": "code",
   "execution_count": 1,
   "id": "a5c99081-9fa2-46d7-892a-e27772c3a8a1",
   "metadata": {},
   "outputs": [],
   "source": [
    "import numpy as np"
   ]
  },
  {
   "cell_type": "code",
   "execution_count": 2,
   "id": "c1ff0c35-6133-402a-8f1f-681125cb888a",
   "metadata": {},
   "outputs": [
    {
     "data": {
      "text/plain": [
       "array([[1, 2, 3, 7, 9],\n",
       "       [9, 7, 7, 3, 6],\n",
       "       [3, 5, 8, 0, 5],\n",
       "       [9, 8, 2, 2, 7],\n",
       "       [7, 5, 3, 8, 6]])"
      ]
     },
     "execution_count": 2,
     "metadata": {},
     "output_type": "execute_result"
    }
   ],
   "source": [
    "a =  np.random.randint(10, size = (5,5))\n",
    "a"
   ]
  },
  {
   "cell_type": "code",
   "execution_count": 3,
   "id": "3501a26d-5a8a-44e2-bba1-59b67e91ecda",
   "metadata": {},
   "outputs": [
    {
     "data": {
      "text/plain": [
       "array([[1, 2],\n",
       "       [9, 7],\n",
       "       [3, 5]])"
      ]
     },
     "execution_count": 3,
     "metadata": {},
     "output_type": "execute_result"
    }
   ],
   "source": [
    "alt_a = a[0:3, 0:2]\n",
    "alt_a"
   ]
  },
  {
   "cell_type": "code",
   "execution_count": 4,
   "id": "ed76845f-5e1d-4e3d-8bcc-b3c06c3b64c3",
   "metadata": {},
   "outputs": [],
   "source": [
    "alt_a[0,0] = 9999\n",
    "alt_a[1,1] = 888"
   ]
  },
  {
   "cell_type": "code",
   "execution_count": 5,
   "id": "f7984ab6-c798-4938-a70f-a876f6562e12",
   "metadata": {},
   "outputs": [
    {
     "data": {
      "text/plain": [
       "array([[9999,    2],\n",
       "       [   9,  888],\n",
       "       [   3,    5]])"
      ]
     },
     "execution_count": 5,
     "metadata": {},
     "output_type": "execute_result"
    }
   ],
   "source": [
    "alt_a"
   ]
  },
  {
   "cell_type": "code",
   "execution_count": 7,
   "id": "6051728b-6a1e-44ad-9c4c-0c209c169b4e",
   "metadata": {},
   "outputs": [
    {
     "data": {
      "text/plain": [
       "array([[9999,    2,    3,    7,    9],\n",
       "       [   9,  888,    7,    3,    6],\n",
       "       [   3,    5,    8,    0,    5],\n",
       "       [   9,    8,    2,    2,    7],\n",
       "       [   7,    5,    3,    8,    6]])"
      ]
     },
     "execution_count": 7,
     "metadata": {},
     "output_type": "execute_result"
    }
   ],
   "source": [
    "a\n",
    "#alt kume degisikligi ana kumeyi de etkiledi"
   ]
  },
  {
   "cell_type": "code",
   "execution_count": 8,
   "id": "8a2429c9-655c-4d45-bb60-beea13d6c583",
   "metadata": {},
   "outputs": [
    {
     "data": {
      "text/plain": [
       "array([[4, 2, 2, 4, 8],\n",
       "       [5, 0, 0, 9, 5],\n",
       "       [5, 5, 8, 2, 1],\n",
       "       [9, 9, 4, 2, 3],\n",
       "       [7, 8, 7, 6, 6]])"
      ]
     },
     "execution_count": 8,
     "metadata": {},
     "output_type": "execute_result"
    }
   ],
   "source": [
    "m =  np.random.randint(10, size = (5,5))\n",
    "m"
   ]
  },
  {
   "cell_type": "code",
   "execution_count": 10,
   "id": "7bad81a0-ed37-44e0-a470-a4699744f5cd",
   "metadata": {},
   "outputs": [],
   "source": [
    "alt_m = m[0:3, 0:2].copy()"
   ]
  },
  {
   "cell_type": "code",
   "execution_count": 12,
   "id": "3eab4fe9-629f-4656-ba7b-3ea63448e1e7",
   "metadata": {},
   "outputs": [],
   "source": [
    "alt_m[0,0] = 999"
   ]
  },
  {
   "cell_type": "code",
   "execution_count": 13,
   "id": "9b81eed5-2946-4239-b288-ef1a4d21ae2b",
   "metadata": {},
   "outputs": [
    {
     "data": {
      "text/plain": [
       "array([[999,   2],\n",
       "       [  5,   0],\n",
       "       [  5,   5]])"
      ]
     },
     "execution_count": 13,
     "metadata": {},
     "output_type": "execute_result"
    }
   ],
   "source": [
    "alt_m"
   ]
  },
  {
   "cell_type": "code",
   "execution_count": 14,
   "id": "60633b43-e18d-4cf0-94ee-8f4e0895f66e",
   "metadata": {},
   "outputs": [
    {
     "data": {
      "text/plain": [
       "array([[4, 2, 2, 4, 8],\n",
       "       [5, 0, 0, 9, 5],\n",
       "       [5, 5, 8, 2, 1],\n",
       "       [9, 9, 4, 2, 3],\n",
       "       [7, 8, 7, 6, 6]])"
      ]
     },
     "execution_count": 14,
     "metadata": {},
     "output_type": "execute_result"
    }
   ],
   "source": [
    "m"
   ]
  },
  {
   "cell_type": "code",
   "execution_count": null,
   "id": "d4cd288d-9e1f-44a1-84cb-08dd9ad39f2f",
   "metadata": {},
   "outputs": [],
   "source": []
  }
 ],
 "metadata": {
  "kernelspec": {
   "display_name": "Python 3 (ipykernel)",
   "language": "python",
   "name": "python3"
  },
  "language_info": {
   "codemirror_mode": {
    "name": "ipython",
    "version": 3
   },
   "file_extension": ".py",
   "mimetype": "text/x-python",
   "name": "python",
   "nbconvert_exporter": "python",
   "pygments_lexer": "ipython3",
   "version": "3.10.9"
  }
 },
 "nbformat": 4,
 "nbformat_minor": 5
}
