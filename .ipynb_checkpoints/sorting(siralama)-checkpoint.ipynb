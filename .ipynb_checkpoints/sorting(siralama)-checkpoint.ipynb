{
 "cells": [
  {
   "cell_type": "code",
   "execution_count": 1,
   "id": "eaa05600-87ef-4e4b-b34b-5948dd8f29ba",
   "metadata": {},
   "outputs": [],
   "source": [
    "import numpy as np"
   ]
  },
  {
   "cell_type": "code",
   "execution_count": 2,
   "id": "2b6ec59b-60b2-4b7d-a0ea-a7fba3e0903e",
   "metadata": {},
   "outputs": [],
   "source": [
    "v = np.array( [2,1,4,3,5])"
   ]
  },
  {
   "cell_type": "code",
   "execution_count": 3,
   "id": "e6112359-8915-4524-aa79-361fe18fdce6",
   "metadata": {},
   "outputs": [
    {
     "data": {
      "text/plain": [
       "array([1, 2, 3, 4, 5])"
      ]
     },
     "execution_count": 3,
     "metadata": {},
     "output_type": "execute_result"
    }
   ],
   "source": [
    "np.sort(v)"
   ]
  },
  {
   "cell_type": "code",
   "execution_count": 4,
   "id": "98c04934-a24a-42e4-bd1a-3a470d1078b1",
   "metadata": {},
   "outputs": [],
   "source": [
    "v.sort()"
   ]
  },
  {
   "cell_type": "code",
   "execution_count": 6,
   "id": "ba6cd1f6-e188-4ee4-95d4-932e4a968f96",
   "metadata": {},
   "outputs": [
    {
     "data": {
      "text/plain": [
       "array([1, 2, 3, 4, 5])"
      ]
     },
     "execution_count": 6,
     "metadata": {},
     "output_type": "execute_result"
    }
   ],
   "source": [
    "v\n",
    "#sort metodu array yapisini tamamen degistirdi(olumcul metod sinifi)"
   ]
  },
  {
   "cell_type": "code",
   "execution_count": 11,
   "id": "6cd0d88e-38a0-4e29-b891-5603ae051690",
   "metadata": {},
   "outputs": [
    {
     "data": {
      "text/plain": [
       "array([[22.18867975, 25.84848699, 24.38572689],\n",
       "       [15.44135201, 15.60845318, 25.325414  ],\n",
       "       [24.35440366, 18.67443679, 13.97059505]])"
      ]
     },
     "execution_count": 11,
     "metadata": {},
     "output_type": "execute_result"
    }
   ],
   "source": [
    "#iki boyutlu\n",
    "m = np.random.normal(20,5, (3,3))\n",
    "m"
   ]
  },
  {
   "cell_type": "code",
   "execution_count": 10,
   "id": "2174e952-2e68-48d5-9e1e-568df70f044b",
   "metadata": {},
   "outputs": [
    {
     "data": {
      "text/plain": [
       "array([[19.3150359 , 26.31101506, 26.82709897],\n",
       "       [16.24659781, 21.94670804, 25.74389493],\n",
       "       [17.64888975, 17.66849003, 22.69308768]])"
      ]
     },
     "execution_count": 10,
     "metadata": {},
     "output_type": "execute_result"
    }
   ],
   "source": [
    "np.sort(m, axis = 1) #satir"
   ]
  },
  {
   "cell_type": "code",
   "execution_count": 12,
   "id": "8a0e0af1-0e5b-48b1-9c40-8151d39fcade",
   "metadata": {},
   "outputs": [
    {
     "data": {
      "text/plain": [
       "array([[15.44135201, 15.60845318, 13.97059505],\n",
       "       [22.18867975, 18.67443679, 24.38572689],\n",
       "       [24.35440366, 25.84848699, 25.325414  ]])"
      ]
     },
     "execution_count": 12,
     "metadata": {},
     "output_type": "execute_result"
    }
   ],
   "source": [
    "np.sort(m, axis = 0) #sutun"
   ]
  }
 ],
 "metadata": {
  "kernelspec": {
   "display_name": "Python 3 (ipykernel)",
   "language": "python",
   "name": "python3"
  },
  "language_info": {
   "codemirror_mode": {
    "name": "ipython",
    "version": 3
   },
   "file_extension": ".py",
   "mimetype": "text/x-python",
   "name": "python",
   "nbconvert_exporter": "python",
   "pygments_lexer": "ipython3",
   "version": "3.10.9"
  }
 },
 "nbformat": 4,
 "nbformat_minor": 5
}
