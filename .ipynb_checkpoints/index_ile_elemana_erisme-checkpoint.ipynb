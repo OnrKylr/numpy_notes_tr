{
 "cells": [
  {
   "cell_type": "code",
   "execution_count": 1,
   "id": "11307778-19a2-4745-b578-5c76c1412650",
   "metadata": {},
   "outputs": [],
   "source": [
    "import numpy as np"
   ]
  },
  {
   "cell_type": "code",
   "execution_count": 2,
   "id": "e2c73b3d-eb11-4ec3-bc72-3f0f951f614f",
   "metadata": {},
   "outputs": [
    {
     "data": {
      "text/plain": [
       "array([7, 9, 1, 7, 3, 8, 9, 0, 7, 6])"
      ]
     },
     "execution_count": 2,
     "metadata": {},
     "output_type": "execute_result"
    }
   ],
   "source": [
    "a = np.random.randint( 10, size = 10)\n",
    "a"
   ]
  },
  {
   "cell_type": "code",
   "execution_count": 3,
   "id": "92d0e8bd-3412-4906-85c7-3611a57a4379",
   "metadata": {},
   "outputs": [
    {
     "data": {
      "text/plain": [
       "7"
      ]
     },
     "execution_count": 3,
     "metadata": {},
     "output_type": "execute_result"
    }
   ],
   "source": [
    "a[0]"
   ]
  },
  {
   "cell_type": "code",
   "execution_count": 4,
   "id": "31b3d0d1-e2d4-463f-907c-1a7a832a783d",
   "metadata": {},
   "outputs": [],
   "source": [
    "a[0] = 100"
   ]
  },
  {
   "cell_type": "code",
   "execution_count": 5,
   "id": "4787942f-a0e4-4d3a-8a20-cceb44632f02",
   "metadata": {},
   "outputs": [
    {
     "data": {
      "text/plain": [
       "array([100,   9,   1,   7,   3,   8,   9,   0,   7,   6])"
      ]
     },
     "execution_count": 5,
     "metadata": {},
     "output_type": "execute_result"
    }
   ],
   "source": [
    "a"
   ]
  },
  {
   "cell_type": "code",
   "execution_count": 6,
   "id": "37c789ab-b3f8-472f-880f-ec2cc401ec64",
   "metadata": {},
   "outputs": [
    {
     "data": {
      "text/plain": [
       "array([[9, 4, 5, 2, 2],\n",
       "       [1, 8, 1, 7, 6],\n",
       "       [0, 4, 4, 6, 1]])"
      ]
     },
     "execution_count": 6,
     "metadata": {},
     "output_type": "execute_result"
    }
   ],
   "source": [
    "#iki boyutlu\n",
    "m = np.random.randint( 10, size = (3,5))\n",
    "m"
   ]
  },
  {
   "cell_type": "code",
   "execution_count": 7,
   "id": "0fdbba80-5f36-46e0-bbe0-0d37401ec8ab",
   "metadata": {},
   "outputs": [
    {
     "data": {
      "text/plain": [
       "9"
      ]
     },
     "execution_count": 7,
     "metadata": {},
     "output_type": "execute_result"
    }
   ],
   "source": [
    "m[0,0]"
   ]
  },
  {
   "cell_type": "code",
   "execution_count": 10,
   "id": "fc670834-66b2-45d0-99c6-6a8bc9596b96",
   "metadata": {},
   "outputs": [],
   "source": [
    "m[1,3] = 99"
   ]
  },
  {
   "cell_type": "code",
   "execution_count": 11,
   "id": "ef378100-30fd-43b9-b5cc-14cd4ca29653",
   "metadata": {},
   "outputs": [
    {
     "data": {
      "text/plain": [
       "array([[ 9,  4,  5,  2,  2],\n",
       "       [ 1,  8,  1, 99,  6],\n",
       "       [ 0,  4,  4,  6,  1]])"
      ]
     },
     "execution_count": 11,
     "metadata": {},
     "output_type": "execute_result"
    }
   ],
   "source": [
    "m"
   ]
  },
  {
   "cell_type": "code",
   "execution_count": 13,
   "id": "aeb8343a-0603-40b9-890b-0b51a3c306d6",
   "metadata": {},
   "outputs": [
    {
     "data": {
      "text/plain": [
       "array([[ 9,  4,  5,  2,  2],\n",
       "       [ 1,  8,  2, 99,  6],\n",
       "       [ 0,  4,  4,  6,  1]])"
      ]
     },
     "execution_count": 13,
     "metadata": {},
     "output_type": "execute_result"
    }
   ],
   "source": [
    "m[1,2] = 2.5\n",
    "m\n",
    "#int tip oldugundan float eklesen de integer cikacak"
   ]
  },
  {
   "cell_type": "code",
   "execution_count": null,
   "id": "fb464794-204c-4b6b-aa68-813503b1907b",
   "metadata": {},
   "outputs": [],
   "source": []
  }
 ],
 "metadata": {
  "kernelspec": {
   "display_name": "Python 3 (ipykernel)",
   "language": "python",
   "name": "python3"
  },
  "language_info": {
   "codemirror_mode": {
    "name": "ipython",
    "version": 3
   },
   "file_extension": ".py",
   "mimetype": "text/x-python",
   "name": "python",
   "nbconvert_exporter": "python",
   "pygments_lexer": "ipython3",
   "version": "3.10.9"
  }
 },
 "nbformat": 4,
 "nbformat_minor": 5
}
